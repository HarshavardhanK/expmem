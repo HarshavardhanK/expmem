{
 "cells": [
  {
   "cell_type": "code",
   "execution_count": 1,
   "metadata": {},
   "outputs": [],
   "source": [
    "import pandas as pd"
   ]
  },
  {
   "cell_type": "code",
   "execution_count": 25,
   "metadata": {},
   "outputs": [],
   "source": [
    "filename = \"/Users/harshavardhank/Desktop/Code/Thesis/Code/expmem/humanEval_results_detail2.csv\"\n",
    "df = pd.read_csv(filename)"
   ]
  },
  {
   "cell_type": "code",
   "execution_count": 26,
   "metadata": {},
   "outputs": [
    {
     "data": {
      "text/html": [
       "<div>\n",
       "<style scoped>\n",
       "    .dataframe tbody tr th:only-of-type {\n",
       "        vertical-align: middle;\n",
       "    }\n",
       "\n",
       "    .dataframe tbody tr th {\n",
       "        vertical-align: top;\n",
       "    }\n",
       "\n",
       "    .dataframe thead th {\n",
       "        text-align: right;\n",
       "    }\n",
       "</style>\n",
       "<table border=\"1\" class=\"dataframe\">\n",
       "  <thead>\n",
       "    <tr style=\"text-align: right;\">\n",
       "      <th></th>\n",
       "      <th>ID</th>\n",
       "      <th>Error Analysis</th>\n",
       "      <th>Summary Explanation</th>\n",
       "      <th>Detailed Explanation</th>\n",
       "      <th>Result</th>\n",
       "      <th>Code</th>\n",
       "    </tr>\n",
       "  </thead>\n",
       "  <tbody>\n",
       "    <tr>\n",
       "      <th>0</th>\n",
       "      <td>HumanEval/0</td>\n",
       "      <td>Prediction(\\n    analysis='---\\n\\n**Programmin...</td>\n",
       "      <td>The approach taken to solve the problem involv...</td>\n",
       "      <td>1. **Importing List**: We import `List` from t...</td>\n",
       "      <td>True</td>\n",
       "      <td>from typing import List\\n\\ndef has_close_eleme...</td>\n",
       "    </tr>\n",
       "    <tr>\n",
       "      <th>1</th>\n",
       "      <td>HumanEval/1</td>\n",
       "      <td>Prediction(\\n    analysis='Programming Context...</td>\n",
       "      <td>The approach taken to solve the problem involv...</td>\n",
       "      <td>1. **Importing List**: We import `List` from t...</td>\n",
       "      <td>True</td>\n",
       "      <td>from typing import List\\n\\ndef separate_paren_...</td>\n",
       "    </tr>\n",
       "    <tr>\n",
       "      <th>2</th>\n",
       "      <td>HumanEval/2</td>\n",
       "      <td>Prediction(\\n    analysis='Programming Context...</td>\n",
       "      <td>The approach taken in this solution involves f...</td>\n",
       "      <td>1. **Function Definition**: The function `trun...</td>\n",
       "      <td>True</td>\n",
       "      <td>def truncate_number(number: float) -&gt; float:\\n...</td>\n",
       "    </tr>\n",
       "    <tr>\n",
       "      <th>3</th>\n",
       "      <td>HumanEval/3</td>\n",
       "      <td>Prediction(\\n    analysis='Programming Context...</td>\n",
       "      <td>The approach taken in this solution is straigh...</td>\n",
       "      <td>1. **Importing List**: We import `List` from t...</td>\n",
       "      <td>True</td>\n",
       "      <td>from typing import List\\n\\ndef below_zero(oper...</td>\n",
       "    </tr>\n",
       "    <tr>\n",
       "      <th>4</th>\n",
       "      <td>HumanEval/4</td>\n",
       "      <td>Prediction(\\n    analysis='---\\n\\nProgramming ...</td>\n",
       "      <td>The approach taken to solve the problem involv...</td>\n",
       "      <td>1. **Importing List**: We import `List` from t...</td>\n",
       "      <td>True</td>\n",
       "      <td>from typing import List\\n\\ndef mean_absolute_d...</td>\n",
       "    </tr>\n",
       "  </tbody>\n",
       "</table>\n",
       "</div>"
      ],
      "text/plain": [
       "            ID                                     Error Analysis  \\\n",
       "0  HumanEval/0  Prediction(\\n    analysis='---\\n\\n**Programmin...   \n",
       "1  HumanEval/1  Prediction(\\n    analysis='Programming Context...   \n",
       "2  HumanEval/2  Prediction(\\n    analysis='Programming Context...   \n",
       "3  HumanEval/3  Prediction(\\n    analysis='Programming Context...   \n",
       "4  HumanEval/4  Prediction(\\n    analysis='---\\n\\nProgramming ...   \n",
       "\n",
       "                                 Summary Explanation  \\\n",
       "0  The approach taken to solve the problem involv...   \n",
       "1  The approach taken to solve the problem involv...   \n",
       "2  The approach taken in this solution involves f...   \n",
       "3  The approach taken in this solution is straigh...   \n",
       "4  The approach taken to solve the problem involv...   \n",
       "\n",
       "                                Detailed Explanation  Result  \\\n",
       "0  1. **Importing List**: We import `List` from t...    True   \n",
       "1  1. **Importing List**: We import `List` from t...    True   \n",
       "2  1. **Function Definition**: The function `trun...    True   \n",
       "3  1. **Importing List**: We import `List` from t...    True   \n",
       "4  1. **Importing List**: We import `List` from t...    True   \n",
       "\n",
       "                                                Code  \n",
       "0  from typing import List\\n\\ndef has_close_eleme...  \n",
       "1  from typing import List\\n\\ndef separate_paren_...  \n",
       "2  def truncate_number(number: float) -> float:\\n...  \n",
       "3  from typing import List\\n\\ndef below_zero(oper...  \n",
       "4  from typing import List\\n\\ndef mean_absolute_d...  "
      ]
     },
     "execution_count": 26,
     "metadata": {},
     "output_type": "execute_result"
    }
   ],
   "source": [
    "df.head()"
   ]
  },
  {
   "cell_type": "code",
   "execution_count": 27,
   "metadata": {},
   "outputs": [
    {
     "data": {
      "text/plain": [
       "Index(['ID', 'Error Analysis', 'Summary Explanation', 'Detailed Explanation',\n",
       "       'Result', 'Code'],\n",
       "      dtype='object')"
      ]
     },
     "execution_count": 27,
     "metadata": {},
     "output_type": "execute_result"
    }
   ],
   "source": [
    "df.columns"
   ]
  },
  {
   "cell_type": "code",
   "execution_count": 20,
   "metadata": {},
   "outputs": [],
   "source": [
    "df_ = df.drop(columns=[\"Error Analysis\", \"Test\", 'Prompt', \"Full_Code\"])"
   ]
  },
  {
   "cell_type": "code",
   "execution_count": 21,
   "metadata": {},
   "outputs": [],
   "source": [
    "df_.to_csv(filename, index=False)"
   ]
  },
  {
   "cell_type": "code",
   "execution_count": null,
   "metadata": {},
   "outputs": [],
   "source": []
  }
 ],
 "metadata": {
  "kernelspec": {
   "display_name": "sutlej",
   "language": "python",
   "name": "python3"
  },
  "language_info": {
   "codemirror_mode": {
    "name": "ipython",
    "version": 3
   },
   "file_extension": ".py",
   "mimetype": "text/x-python",
   "name": "python",
   "nbconvert_exporter": "python",
   "pygments_lexer": "ipython3",
   "version": "3.12.3"
  }
 },
 "nbformat": 4,
 "nbformat_minor": 2
}
